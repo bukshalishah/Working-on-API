{
 "cells": [
  {
   "cell_type": "code",
   "execution_count": null,
   "metadata": {},
   "outputs": [],
   "source": [
    "import numpy as np\n",
    "import pandas as pd\n",
    "import requests"
   ]
  },
  {
   "cell_type": "code",
   "execution_count": null,
   "metadata": {},
   "outputs": [],
   "source": [
    "url = \"https://api.nasa.gov/mars-photos/api/v1/rovers/curiosity/photos?sol=1000&page=2&api_key=DEMO_KEY\""
   ]
  },
  {
   "cell_type": "code",
   "execution_count": null,
   "metadata": {},
   "outputs": [],
   "source": [
    "api = requests.get(url)"
   ]
  },
  {
   "cell_type": "code",
   "execution_count": null,
   "metadata": {},
   "outputs": [],
   "source": [
    "data = api.json()"
   ]
  },
  {
   "cell_type": "code",
   "execution_count": null,
   "metadata": {},
   "outputs": [],
   "source": [
    "data = pd.DataFrame(data)"
   ]
  },
  {
   "cell_type": "code",
   "execution_count": null,
   "metadata": {},
   "outputs": [],
   "source": [
    "data.head(2)"
   ]
  },
  {
   "cell_type": "code",
   "execution_count": null,
   "metadata": {},
   "outputs": [],
   "source": [
    "data2 = data.photos\n",
    "data2.size"
   ]
  },
  {
   "cell_type": "code",
   "execution_count": null,
   "metadata": {},
   "outputs": [],
   "source": [
    "data_01 = pd.DataFrame(data2[0])\n",
    "data_02 = pd.DataFrame(data2[1])\n",
    "data_03 = pd.DataFrame(data2[2])\n",
    "data_04 = pd.DataFrame(data2[3])\n",
    "data_05 = pd.DataFrame(data2[4])\n",
    "data_06 = pd.DataFrame(data2[5])\n",
    "data_07 = pd.DataFrame(data2[6])\n",
    "data_08 = pd.DataFrame(data2[7])\n",
    "data_09 = pd.DataFrame(data2[8])\n",
    "data_10 = pd.DataFrame(data2[9])\n",
    "data_11 = pd.DataFrame(data2[10])\n",
    "data_12 = pd.DataFrame(data2[11])\n",
    "data_13 = pd.DataFrame(data2[12])\n",
    "data_14 = pd.DataFrame(data2[13])\n",
    "data_15 = pd.DataFrame(data2[14])\n",
    "data_16 = pd.DataFrame(data2[15])\n",
    "data_17 = pd.DataFrame(data2[16])\n",
    "data_18 = pd.DataFrame(data2[17])\n",
    "data_19 = pd.DataFrame(data2[18])\n",
    "data_20 = pd.DataFrame(data2[19])\n",
    "data_21 = pd.DataFrame(data2[20])\n",
    "data_22 = pd.DataFrame(data2[21])\n",
    "data_23 = pd.DataFrame(data2[22])\n",
    "data_24 = pd.DataFrame(data2[23])\n",
    "data_25 = pd.DataFrame(data2[24])"
   ]
  },
  {
   "cell_type": "markdown",
   "metadata": {},
   "source": [
    "# Data"
   ]
  },
  {
   "cell_type": "code",
   "execution_count": null,
   "metadata": {},
   "outputs": [],
   "source": [
    "read_data_01 = pd.DataFrame(data_01)\n",
    "images_01 = read_data_01.img_src"
   ]
  },
  {
   "cell_type": "code",
   "execution_count": null,
   "metadata": {},
   "outputs": [],
   "source": [
    "read_data_02 = pd.DataFrame(data_02)\n",
    "images_02 = read_data_02.img_src"
   ]
  },
  {
   "cell_type": "code",
   "execution_count": null,
   "metadata": {},
   "outputs": [],
   "source": [
    "read_data_03 = pd.DataFrame(data_03)\n",
    "images_03 = read_data_03.img_src"
   ]
  },
  {
   "cell_type": "code",
   "execution_count": null,
   "metadata": {},
   "outputs": [],
   "source": [
    "read_data_04 = pd.DataFrame(data_04)\n",
    "images_04 = read_data_04.img_src"
   ]
  },
  {
   "cell_type": "code",
   "execution_count": null,
   "metadata": {},
   "outputs": [],
   "source": [
    "read_data_05 = pd.DataFrame(data_05)\n",
    "images_05 = read_data_05.img_src"
   ]
  },
  {
   "cell_type": "code",
   "execution_count": null,
   "metadata": {},
   "outputs": [],
   "source": [
    "read_data_06 = pd.DataFrame(data_06)\n",
    "images_06 = read_data_06.img_src"
   ]
  },
  {
   "cell_type": "code",
   "execution_count": null,
   "metadata": {},
   "outputs": [],
   "source": [
    "read_data_07 = pd.DataFrame(data_07)\n",
    "images_07 = read_data_07.img_src"
   ]
  },
  {
   "cell_type": "code",
   "execution_count": null,
   "metadata": {},
   "outputs": [],
   "source": [
    "read_data_08 = pd.DataFrame(data_08)\n",
    "images_08 = read_data_08.img_src"
   ]
  },
  {
   "cell_type": "code",
   "execution_count": null,
   "metadata": {},
   "outputs": [],
   "source": [
    "read_data_09 = pd.DataFrame(data_09)\n",
    "images_09 = read_data_09.img_src"
   ]
  },
  {
   "cell_type": "code",
   "execution_count": null,
   "metadata": {},
   "outputs": [],
   "source": [
    "read_data_10 = pd.DataFrame(data_10)\n",
    "images_10 = read_data_10.img_src"
   ]
  },
  {
   "cell_type": "code",
   "execution_count": null,
   "metadata": {},
   "outputs": [],
   "source": [
    "read_data_11 = pd.DataFrame(data_11)\n",
    "images_11 = read_data_11.img_src"
   ]
  },
  {
   "cell_type": "code",
   "execution_count": null,
   "metadata": {},
   "outputs": [],
   "source": [
    "read_data_12 = pd.DataFrame(data_12)\n",
    "images_12 = read_data_12.img_src"
   ]
  },
  {
   "cell_type": "code",
   "execution_count": null,
   "metadata": {},
   "outputs": [],
   "source": [
    "read_data_13 = pd.DataFrame(data_13)\n",
    "images_13 = read_data_13.img_src"
   ]
  },
  {
   "cell_type": "code",
   "execution_count": null,
   "metadata": {},
   "outputs": [],
   "source": [
    "read_data_14 = pd.DataFrame(data_14)\n",
    "images_14 = read_data_14.img_src"
   ]
  },
  {
   "cell_type": "code",
   "execution_count": null,
   "metadata": {},
   "outputs": [],
   "source": [
    "read_data_15 = pd.DataFrame(data_15)\n",
    "images_15 = read_data_15.img_src"
   ]
  },
  {
   "cell_type": "code",
   "execution_count": null,
   "metadata": {},
   "outputs": [],
   "source": [
    "read_data_16 = pd.DataFrame(data_16)\n",
    "images_16 = read_data_16.img_src"
   ]
  },
  {
   "cell_type": "code",
   "execution_count": null,
   "metadata": {},
   "outputs": [],
   "source": [
    "read_data_17 = pd.DataFrame(data_17)\n",
    "images_17 = read_data_17.img_src"
   ]
  },
  {
   "cell_type": "code",
   "execution_count": null,
   "metadata": {},
   "outputs": [],
   "source": [
    "read_data_18 = pd.DataFrame(data_18)\n",
    "images_18 = read_data_18.img_src"
   ]
  },
  {
   "cell_type": "code",
   "execution_count": null,
   "metadata": {},
   "outputs": [],
   "source": [
    "read_data_19 = pd.DataFrame(data_19)\n",
    "images_19 = read_data_19.img_src"
   ]
  },
  {
   "cell_type": "code",
   "execution_count": null,
   "metadata": {},
   "outputs": [],
   "source": [
    "read_data_20 = pd.DataFrame(data_20)\n",
    "images_20 = read_data_20.img_src"
   ]
  },
  {
   "cell_type": "code",
   "execution_count": null,
   "metadata": {},
   "outputs": [],
   "source": [
    "read_data_21 = pd.DataFrame(data_21)\n",
    "images_21 = read_data_21.img_src"
   ]
  },
  {
   "cell_type": "code",
   "execution_count": null,
   "metadata": {},
   "outputs": [],
   "source": [
    "read_data_22 = pd.DataFrame(data_22)\n",
    "images_22 = read_data_22.img_src"
   ]
  },
  {
   "cell_type": "code",
   "execution_count": null,
   "metadata": {},
   "outputs": [],
   "source": [
    "read_data_23 = pd.DataFrame(data_23)\n",
    "images_23 = read_data_23.img_src"
   ]
  },
  {
   "cell_type": "code",
   "execution_count": null,
   "metadata": {},
   "outputs": [],
   "source": [
    "read_data_24 = pd.DataFrame(data_24)\n",
    "images_24 = read_data_24.img_src"
   ]
  },
  {
   "cell_type": "code",
   "execution_count": null,
   "metadata": {},
   "outputs": [],
   "source": [
    "read_data_25 = pd.DataFrame(data_25)\n",
    "images_25 = read_data_25.img_src"
   ]
  },
  {
   "cell_type": "code",
   "execution_count": null,
   "metadata": {},
   "outputs": [],
   "source": [
    "with pd.ExcelWriter('NASA_Mars_Images.xlsx') as writer:\n",
    "    images_01.to_excel(writer, sheet_name='Data_01', index=False)\n",
    "    images_02.to_excel(writer, sheet_name='Data_02', index=False)\n",
    "    images_03.to_excel(writer, sheet_name='Data_03', index=False)\n",
    "    images_04.to_excel(writer, sheet_name='Data_04', index=False)\n",
    "    images_05.to_excel(writer, sheet_name='Data_05', index=False)\n",
    "    images_06.to_excel(writer, sheet_name='Data_06', index=False)\n",
    "    images_07.to_excel(writer, sheet_name='Data_07', index=False)\n",
    "    images_08.to_excel(writer, sheet_name='Data_08', index=False)\n",
    "    images_09.to_excel(writer, sheet_name='Data_09', index=False)\n",
    "    images_10.to_excel(writer, sheet_name='Data_10', index=False)\n",
    "    images_11.to_excel(writer, sheet_name='Data_11', index=False)\n",
    "    images_12.to_excel(writer, sheet_name='Data_12', index=False)\n",
    "    images_13.to_excel(writer, sheet_name='Data_13', index=False)\n",
    "    images_14.to_excel(writer, sheet_name='Data_14', index=False)\n",
    "    images_15.to_excel(writer, sheet_name='Data_15', index=False)\n",
    "    images_16.to_excel(writer, sheet_name='Data_16', index=False)\n",
    "    images_17.to_excel(writer, sheet_name='Data_17', index=False)\n",
    "    images_18.to_excel(writer, sheet_name='Data_18', index=False)\n",
    "    images_19.to_excel(writer, sheet_name='Data_19', index=False)\n",
    "    images_20.to_excel(writer, sheet_name='Data_20', index=False)\n",
    "    images_21.to_excel(writer, sheet_name='Data_21', index=False)\n",
    "    images_22.to_excel(writer, sheet_name='Data_22', index=False)\n",
    "    images_23.to_excel(writer, sheet_name='Data_23', index=False)\n",
    "    images_24.to_excel(writer, sheet_name='Data_24', index=False)\n",
    "    images_25.to_excel(writer, sheet_name='Data_25', index=False)"
   ]
  }
 ],
 "metadata": {
  "kernelspec": {
   "display_name": "Python 3",
   "language": "python",
   "name": "python3"
  },
  "language_info": {
   "codemirror_mode": {
    "name": "ipython",
    "version": 3
   },
   "file_extension": ".py",
   "mimetype": "text/x-python",
   "name": "python",
   "nbconvert_exporter": "python",
   "pygments_lexer": "ipython3",
   "version": "3.6.5"
  }
 },
 "nbformat": 4,
 "nbformat_minor": 2
}
