{
 "cells": [
  {
   "cell_type": "code",
   "execution_count": null,
   "metadata": {},
   "outputs": [],
   "source": [
    "import urllib.request\n",
    "import random\n",
    "import pandas as pd"
   ]
  },
  {
   "cell_type": "code",
   "execution_count": null,
   "metadata": {},
   "outputs": [],
   "source": [
    "images_data_01 = pd.read_excel(\"NASA_Mars_Images.xlsx\", sheet_name='Data_01')\n",
    "images_data_02 = pd.read_excel(\"NASA_Mars_Images.xlsx\", sheet_name='Data_02')\n",
    "images_data_03 = pd.read_excel(\"NASA_Mars_Images.xlsx\", sheet_name='Data_03')\n",
    "images_data_04 = pd.read_excel(\"NASA_Mars_Images.xlsx\", sheet_name='Data_04')\n",
    "images_data_05 = pd.read_excel(\"NASA_Mars_Images.xlsx\", sheet_name='Data_05')\n",
    "images_data_06 = pd.read_excel(\"NASA_Mars_Images.xlsx\", sheet_name='Data_06')\n",
    "images_data_07 = pd.read_excel(\"NASA_Mars_Images.xlsx\", sheet_name='Data_07')\n",
    "images_data_08 = pd.read_excel(\"NASA_Mars_Images.xlsx\", sheet_name='Data_08')\n",
    "images_data_09 = pd.read_excel(\"NASA_Mars_Images.xlsx\", sheet_name='Data_09')\n",
    "images_data_10 = pd.read_excel(\"NASA_Mars_Images.xlsx\", sheet_name='Data_10')\n",
    "images_data_11 = pd.read_excel(\"NASA_Mars_Images.xlsx\", sheet_name='Data_11')\n",
    "images_data_12 = pd.read_excel(\"NASA_Mars_Images.xlsx\", sheet_name='Data_12')\n",
    "images_data_13 = pd.read_excel(\"NASA_Mars_Images.xlsx\", sheet_name='Data_13')\n",
    "images_data_14 = pd.read_excel(\"NASA_Mars_Images.xlsx\", sheet_name='Data_14')\n",
    "images_data_15 = pd.read_excel(\"NASA_Mars_Images.xlsx\", sheet_name='Data_15')\n",
    "images_data_16 = pd.read_excel(\"NASA_Mars_Images.xlsx\", sheet_name='Data_16')\n",
    "images_data_17 = pd.read_excel(\"NASA_Mars_Images.xlsx\", sheet_name='Data_17')\n",
    "images_data_18 = pd.read_excel(\"NASA_Mars_Images.xlsx\", sheet_name='Data_18')\n",
    "images_data_19 = pd.read_excel(\"NASA_Mars_Images.xlsx\", sheet_name='Data_19')\n",
    "images_data_20 = pd.read_excel(\"NASA_Mars_Images.xlsx\", sheet_name='Data_20')\n",
    "images_data_21 = pd.read_excel(\"NASA_Mars_Images.xlsx\", sheet_name='Data_21')\n",
    "images_data_22 = pd.read_excel(\"NASA_Mars_Images.xlsx\", sheet_name='Data_22')\n",
    "images_data_23 = pd.read_excel(\"NASA_Mars_Images.xlsx\", sheet_name='Data_23')\n",
    "images_data_24 = pd.read_excel(\"NASA_Mars_Images.xlsx\", sheet_name='Data_24')\n",
    "images_data_25 = pd.read_excel(\"NASA_Mars_Images.xlsx\", sheet_name='Data_25')"
   ]
  },
  {
   "cell_type": "code",
   "execution_count": null,
   "metadata": {
    "scrolled": true
   },
   "outputs": [],
   "source": [
    "def url(images_data):\n",
    "    for x in [images_data.img_src]:\n",
    "        urls = list(x)\n",
    "        return urls"
   ]
  },
  {
   "cell_type": "code",
   "execution_count": null,
   "metadata": {},
   "outputs": [],
   "source": [
    "def images(urls):\n",
    "    n = 'NASA_Mars'\n",
    "    rand = random.randrange(1,10000)\n",
    "    name = n + '_' + str(rand) + \".jpg\"\n",
    "    urllib.request.urlretrieve(urls, name)"
   ]
  },
  {
   "cell_type": "code",
   "execution_count": null,
   "metadata": {},
   "outputs": [],
   "source": [
    "def generate_images(url):\n",
    "    for u in url:\n",
    "        print(images(u))"
   ]
  },
  {
   "cell_type": "code",
   "execution_count": null,
   "metadata": {},
   "outputs": [],
   "source": [
    "url_1 = url(images_data_01)\n",
    "url_2 = url(images_data_02)\n",
    "url_3 = url(images_data_03)\n",
    "url_4 = url(images_data_04)\n",
    "url_5 = url(images_data_05)\n",
    "url_6 = url(images_data_06)\n",
    "url_7 = url(images_data_07)\n",
    "url_8 = url(images_data_08)\n",
    "url_9 = url(images_data_09)\n",
    "url_10 = url(images_data_10)\n",
    "url_11 = url(images_data_01)\n",
    "url_12 = url(images_data_02)\n",
    "url_13 = url(images_data_03)\n",
    "url_14 = url(images_data_04)\n",
    "url_15 = url(images_data_05)\n",
    "url_16 = url(images_data_01)\n",
    "url_17 = url(images_data_02)\n",
    "url_18 = url(images_data_03)\n",
    "url_19 = url(images_data_04)\n",
    "url_20 = url(images_data_05)\n",
    "url_21 = url(images_data_01)\n",
    "url_22 = url(images_data_02)\n",
    "url_23 = url(images_data_03)\n",
    "url_24 = url(images_data_04)\n",
    "url_25 = url(images_data_05)"
   ]
  },
  {
   "cell_type": "code",
   "execution_count": null,
   "metadata": {},
   "outputs": [],
   "source": [
    "def generate_now():\n",
    "    generate_images(url_1)\n",
    "    generate_images(url_2)\n",
    "    generate_images(url_3)\n",
    "    generate_images(url_4)\n",
    "    generate_images(url_5)\n",
    "    generate_images(url_6)\n",
    "    generate_images(url_7)\n",
    "    generate_images(url_8)\n",
    "    generate_images(url_9)\n",
    "    generate_images(url_10)\n",
    "    generate_images(url_11)\n",
    "    generate_images(url_12)\n",
    "    generate_images(url_13)\n",
    "    generate_images(url_14)\n",
    "    generate_images(url_15)\n",
    "    generate_images(url_16)\n",
    "    generate_images(url_17)\n",
    "    generate_images(url_18)\n",
    "    generate_images(url_19)\n",
    "    generate_images(url_20)\n",
    "    generate_images(url_21)\n",
    "    generate_images(url_22)\n",
    "    generate_images(url_23)\n",
    "    generate_images(url_24)\n",
    "    generate_images(url_25)"
   ]
  },
  {
   "cell_type": "code",
   "execution_count": null,
   "metadata": {},
   "outputs": [],
   "source": [
    "generate_now()"
   ]
  },
  {
   "cell_type": "code",
   "execution_count": null,
   "metadata": {},
   "outputs": [],
   "source": []
  }
 ],
 "metadata": {
  "kernelspec": {
   "display_name": "Python 3",
   "language": "python",
   "name": "python3"
  },
  "language_info": {
   "codemirror_mode": {
    "name": "ipython",
    "version": 3
   },
   "file_extension": ".py",
   "mimetype": "text/x-python",
   "name": "python",
   "nbconvert_exporter": "python",
   "pygments_lexer": "ipython3",
   "version": "3.6.5"
  }
 },
 "nbformat": 4,
 "nbformat_minor": 2
}
